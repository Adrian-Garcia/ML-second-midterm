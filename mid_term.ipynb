{
 "cells": [
  {
   "cell_type": "code",
   "execution_count": 1,
   "metadata": {},
   "outputs": [],
   "source": [
    "import pandas as pd\n",
    "import numpy as np\n",
    "import matplotlib.pyplot as plt\n",
    "from sklearn.decomposition import PCA\n",
    "from sklearn.preprocessing import StandardScaler\n",
    "%matplotlib inline"
   ]
  },
  {
   "cell_type": "code",
   "execution_count": 2,
   "metadata": {},
   "outputs": [],
   "source": [
    "df = pd.read_csv(\"publication_strategies.csv\")"
   ]
  },
  {
   "cell_type": "code",
   "execution_count": 3,
   "metadata": {},
   "outputs": [
    {
     "data": {
      "text/html": [
       "<div>\n",
       "<style scoped>\n",
       "    .dataframe tbody tr th:only-of-type {\n",
       "        vertical-align: middle;\n",
       "    }\n",
       "\n",
       "    .dataframe tbody tr th {\n",
       "        vertical-align: top;\n",
       "    }\n",
       "\n",
       "    .dataframe thead th {\n",
       "        text-align: right;\n",
       "    }\n",
       "</style>\n",
       "<table border=\"1\" class=\"dataframe\">\n",
       "  <thead>\n",
       "    <tr style=\"text-align: right;\">\n",
       "      <th></th>\n",
       "      <th>clave</th>\n",
       "      <th>affiliations</th>\n",
       "      <th>intl_afil</th>\n",
       "      <th>authors</th>\n",
       "      <th>docs</th>\n",
       "      <th>book</th>\n",
       "      <th>chapter</th>\n",
       "      <th>conference</th>\n",
       "      <th>journal</th>\n",
       "      <th>q1q2</th>\n",
       "      <th>cites_3y</th>\n",
       "      <th>q3q4</th>\n",
       "    </tr>\n",
       "  </thead>\n",
       "  <tbody>\n",
       "    <tr>\n",
       "      <th>0</th>\n",
       "      <td>1-2007</td>\n",
       "      <td>10</td>\n",
       "      <td>0</td>\n",
       "      <td>22</td>\n",
       "      <td>1</td>\n",
       "      <td>0</td>\n",
       "      <td>0</td>\n",
       "      <td>0</td>\n",
       "      <td>4</td>\n",
       "      <td>4</td>\n",
       "      <td>2</td>\n",
       "      <td>0</td>\n",
       "    </tr>\n",
       "    <tr>\n",
       "      <th>1</th>\n",
       "      <td>1-2008</td>\n",
       "      <td>11</td>\n",
       "      <td>2</td>\n",
       "      <td>23</td>\n",
       "      <td>2</td>\n",
       "      <td>0</td>\n",
       "      <td>0</td>\n",
       "      <td>0</td>\n",
       "      <td>5</td>\n",
       "      <td>2</td>\n",
       "      <td>2</td>\n",
       "      <td>3</td>\n",
       "    </tr>\n",
       "    <tr>\n",
       "      <th>2</th>\n",
       "      <td>1-2009</td>\n",
       "      <td>6</td>\n",
       "      <td>1</td>\n",
       "      <td>14</td>\n",
       "      <td>1</td>\n",
       "      <td>0</td>\n",
       "      <td>0</td>\n",
       "      <td>0</td>\n",
       "      <td>2</td>\n",
       "      <td>1</td>\n",
       "      <td>2</td>\n",
       "      <td>1</td>\n",
       "    </tr>\n",
       "    <tr>\n",
       "      <th>3</th>\n",
       "      <td>1-2010</td>\n",
       "      <td>32</td>\n",
       "      <td>18</td>\n",
       "      <td>59</td>\n",
       "      <td>6</td>\n",
       "      <td>0</td>\n",
       "      <td>0</td>\n",
       "      <td>0</td>\n",
       "      <td>8</td>\n",
       "      <td>6</td>\n",
       "      <td>6</td>\n",
       "      <td>2</td>\n",
       "    </tr>\n",
       "    <tr>\n",
       "      <th>4</th>\n",
       "      <td>1-2011</td>\n",
       "      <td>3</td>\n",
       "      <td>0</td>\n",
       "      <td>5</td>\n",
       "      <td>0</td>\n",
       "      <td>0</td>\n",
       "      <td>0</td>\n",
       "      <td>0</td>\n",
       "      <td>1</td>\n",
       "      <td>1</td>\n",
       "      <td>0</td>\n",
       "      <td>0</td>\n",
       "    </tr>\n",
       "  </tbody>\n",
       "</table>\n",
       "</div>"
      ],
      "text/plain": [
       "    clave  affiliations  intl_afil  authors  docs  book  chapter  conference  \\\n",
       "0  1-2007            10          0       22     1     0        0           0   \n",
       "1  1-2008            11          2       23     2     0        0           0   \n",
       "2  1-2009             6          1       14     1     0        0           0   \n",
       "3  1-2010            32         18       59     6     0        0           0   \n",
       "4  1-2011             3          0        5     0     0        0           0   \n",
       "\n",
       "   journal  q1q2  cites_3y  q3q4  \n",
       "0        4     4         2     0  \n",
       "1        5     2         2     3  \n",
       "2        2     1         2     1  \n",
       "3        8     6         6     2  \n",
       "4        1     1         0     0  "
      ]
     },
     "execution_count": 3,
     "metadata": {},
     "output_type": "execute_result"
    }
   ],
   "source": [
    "df.head()"
   ]
  },
  {
   "cell_type": "code",
   "execution_count": 4,
   "metadata": {},
   "outputs": [],
   "source": [
    "X = df.iloc[:,1:11].values\n",
    "y = df.iloc[:,0].values"
   ]
  },
  {
   "cell_type": "code",
   "execution_count": 5,
   "metadata": {},
   "outputs": [],
   "source": [
    "from sklearn.preprocessing import StandardScaler\n",
    "X_std = StandardScaler().fit_transform(X)"
   ]
  },
  {
   "cell_type": "code",
   "execution_count": 6,
   "metadata": {},
   "outputs": [
    {
     "name": "stdout",
     "output_type": "stream",
     "text": [
      "NumPy covariance matrix: \n",
      "[[1.00004031 0.82897781 0.89973738 0.56147021 0.125033   0.28279588\n",
      "  0.44192185 0.58575867 0.55336299 0.51638837]\n",
      " [0.82897781 1.00004031 0.95213125 0.18615166 0.03896652 0.05596042\n",
      "  0.13171341 0.18679476 0.18992076 0.20199973]\n",
      " [0.89973738 0.95213125 1.00004031 0.30399181 0.05829165 0.14240892\n",
      "  0.22667524 0.32373986 0.30161553 0.29518302]\n",
      " [0.56147021 0.18615166 0.30399181 1.00004031 0.12766933 0.3874816\n",
      "  0.47209375 0.73178008 0.74675347 0.87814419]\n",
      " [0.125033   0.03896652 0.05829165 0.12766933 1.00004031 0.06609198\n",
      "  0.07976935 0.11590758 0.11286286 0.11347028]\n",
      " [0.28279588 0.05596042 0.14240892 0.3874816  0.06609198 1.00004031\n",
      "  0.28107796 0.14728389 0.27585699 0.33702288]\n",
      " [0.44192185 0.13171341 0.22667524 0.47209375 0.07976935 0.28107796\n",
      "  1.00004031 0.23123366 0.25846412 0.4282699 ]\n",
      " [0.58575867 0.18679476 0.32373986 0.73178008 0.11590758 0.14728389\n",
      "  0.23123366 1.00004031 0.88220402 0.62584897]\n",
      " [0.55336299 0.18992076 0.30161553 0.74675347 0.11286286 0.27585699\n",
      "  0.25846412 0.88220402 1.00004031 0.64518981]\n",
      " [0.51638837 0.20199973 0.29518302 0.87814419 0.11347028 0.33702288\n",
      "  0.4282699  0.62584897 0.64518981 1.00004031]]\n"
     ]
    }
   ],
   "source": [
    "print('NumPy covariance matrix: \\n%s' %np.cov(X_std.T))"
   ]
  },
  {
   "cell_type": "code",
   "execution_count": 7,
   "metadata": {},
   "outputs": [
    {
     "name": "stdout",
     "output_type": "stream",
     "text": [
      "Eigenvectors \n",
      "[[-4.11831574e-01  3.05693886e-01 -2.99748530e-02 -4.23263417e-03\n",
      "   1.94208101e-02  1.43216901e-01 -7.34775674e-01  3.48793714e-01\n",
      "   2.05216414e-01  1.07122471e-01]\n",
      " [-2.67068055e-01  5.78950387e-01  2.38470683e-02 -2.99221613e-03\n",
      "  -5.00889264e-02 -1.36136049e-01  5.23470105e-01  4.94053569e-01\n",
      "  -2.13815689e-01 -8.96912161e-02]\n",
      " [-3.19416266e-01  5.13847261e-01  4.08489233e-03  5.61804001e-03\n",
      "  -5.03511551e-02 -2.91675305e-02  2.13297413e-02 -7.91861812e-01\n",
      "   5.14468784e-02 -1.87920379e-02]\n",
      " [-3.93506279e-01 -2.92877846e-01 -4.70125940e-03  5.14236635e-02\n",
      "   5.35883391e-02 -3.33941152e-01 -2.27204244e-02  7.92131163e-03\n",
      "   1.86764373e-01 -7.79012569e-01]\n",
      " [-7.87211173e-02 -5.49376648e-02 -1.24219073e-01 -9.87067508e-01\n",
      "  -1.08171100e-02 -1.64233608e-02  1.97892875e-02 -1.05053117e-02\n",
      "  -1.27065146e-02 -1.42303033e-03]\n",
      " [-1.86356915e-01 -1.60292413e-01 -6.24712675e-01  1.08779424e-01\n",
      "  -7.04458896e-01  1.44053968e-01  1.06746865e-01  1.37077526e-02\n",
      "   6.54122398e-02  6.78462488e-02]\n",
      " [-2.38384971e-01 -9.94049108e-02 -5.54237540e-01  8.57931197e-02\n",
      "   6.82499961e-01  3.39532427e-01  1.70802196e-01 -2.78703474e-02\n",
      "  -7.55213499e-02  4.48271508e-02]\n",
      " [-3.63977259e-01 -2.23566838e-01  4.24991191e-01 -1.80518413e-02\n",
      "  -2.92740922e-02  3.47380105e-01  3.69663043e-01  3.39461654e-02\n",
      "   5.66024137e-01  2.38492561e-01]\n",
      " [-3.69190480e-01 -2.52787989e-01  3.23089523e-01  6.74609968e-03\n",
      "  -1.43132258e-01  3.64622362e-01 -8.66120941e-02 -6.58311434e-02\n",
      "  -7.25739800e-01 -5.82607036e-02]\n",
      " [-3.68322009e-01 -2.62819743e-01 -2.47816291e-02  5.85671293e-02\n",
      "   9.04302161e-02 -6.77246271e-01  5.13504172e-04 -2.41875487e-02\n",
      "  -1.31970034e-01  5.53515054e-01]]\n",
      "\n",
      "Eigenvalues \n",
      "[4.65520909 1.90008246 1.04647311 0.9741103  0.72453047 0.42513363\n",
      " 0.02369728 0.03314043 0.11924382 0.09878252]\n"
     ]
    }
   ],
   "source": [
    "cov_mat = np.cov(X_std.T)\n",
    "\n",
    "eig_vals, eig_vecs = np.linalg.eig(cov_mat)\n",
    "\n",
    "print('Eigenvectors \\n%s' %eig_vecs)\n",
    "print('\\nEigenvalues \\n%s' %eig_vals)"
   ]
  },
  {
   "cell_type": "code",
   "execution_count": 8,
   "metadata": {},
   "outputs": [
    {
     "name": "stdout",
     "output_type": "stream",
     "text": [
      "Autovalores en orden descendiente:\n",
      "4.655209090366709\n",
      "1.900082460531324\n",
      "1.0464731086776926\n",
      "0.9741102999553072\n",
      "0.7245304745338462\n",
      "0.4251336283293051\n",
      "0.11924382333178195\n",
      "0.09878252000597443\n",
      "0.03314042525968967\n",
      "0.02369728103320794\n"
     ]
    }
   ],
   "source": [
    "eig_pairs = [(np.abs(eig_vals[i]), eig_vecs[:,i]) for i in range(len(eig_vals))]\n",
    "eig_pairs.sort(key=lambda x: x[0], reverse=True)\n",
    "\n",
    "print('Autovalores en orden descendiente:')\n",
    "for i in eig_pairs:\n",
    "    print(i[0])"
   ]
  },
  {
   "cell_type": "code",
   "execution_count": 9,
   "metadata": {},
   "outputs": [
    {
     "data": {
      "image/png": "[encoded data removed]",
      "text/plain": [
       "<Figure size 432x288 with 1 Axes>"
      ]
     },
     "metadata": {
      "needs_background": "light"
     },
     "output_type": "display_data"
    }
   ],
   "source": [
    "tot = sum(eig_vals)\n",
    "var_exp = [(i / tot)*100 for i in sorted(eig_vals, reverse=True)]\n",
    "cum_var_exp = np.cumsum(var_exp)\n",
    "\n",
    "with plt.style.context('seaborn-pastel'):\n",
    "    plt.figure(figsize=(6, 4))\n",
    "\n",
    "    plt.bar(range(10), var_exp, alpha=0.5, align='center',\n",
    "            label='Varianza individual explicada', color='g')\n",
    "    plt.step(range(10), cum_var_exp, where='mid', linestyle='--', label='Varianza explicada acumulada')\n",
    "    plt.ylabel('Ratio de Varianza Explicada')\n",
    "    plt.xlabel('Componentes Principales')\n",
    "    plt.legend(loc='best')\n",
    "    plt.tight_layout()"
   ]
  },
  {
   "cell_type": "code",
   "execution_count": 10,
   "metadata": {},
   "outputs": [
    {
     "name": "stdout",
     "output_type": "stream",
     "text": [
      "Matriz W:\n",
      " [[-0.41183157  0.30569389]\n",
      " [-0.26706806  0.57895039]\n",
      " [-0.31941627  0.51384726]\n",
      " [-0.39350628 -0.29287785]\n",
      " [-0.07872112 -0.05493766]\n",
      " [-0.18635691 -0.16029241]\n",
      " [-0.23838497 -0.09940491]\n",
      " [-0.36397726 -0.22356684]\n",
      " [-0.36919048 -0.25278799]\n",
      " [-0.36832201 -0.26281974]]\n"
     ]
    }
   ],
   "source": [
    "matrix_w = np.hstack((eig_pairs[0][1].reshape(10,1),\n",
    "                      eig_pairs[1][1].reshape(10,1)))\n",
    "\n",
    "print('Matriz W:\\n', matrix_w)\n",
    "\n",
    "Y = X_std.dot(matrix_w)"
   ]
  },
  {
   "cell_type": "code",
   "execution_count": 12,
   "metadata": {},
   "outputs": [
    {
     "data": {
      "image/png": "[encoded data removed]",
      "text/plain": [
       "<Figure size 432x288 with 1 Axes>"
      ]
     },
     "metadata": {},
     "output_type": "display_data"
    }
   ],
   "source": [
    "with plt.style.context('seaborn-whitegrid'):\n",
    "    plt.figure(figsize=(6, 4))\n",
    "    for lab, col in zip(('affiliations', 'intl_afil', 'authors'),\n",
    "                        ('magenta', 'cyan', 'limegreen')):\n",
    "        plt.scatter(Y[y==lab, 0],\n",
    "                    Y[y==lab, 1],\n",
    "                    label=lab,\n",
    "                    c=col)\n",
    "    plt.xlabel('Componente Principal 2')\n",
    "    plt.ylabel('Componente Principal 3')\n",
    "    plt.legend(loc='lower center')\n",
    "    plt.tight_layout()\n",
    "    plt.show()"
   ]
  },
  {
   "cell_type": "code",
   "execution_count": null,
   "metadata": {},
   "outputs": [],
   "source": []
  },
  {
   "cell_type": "code",
   "execution_count": null,
   "metadata": {},
   "outputs": [],
   "source": []
  }
 ],
 "metadata": {
  "kernelspec": {
   "display_name": "Python 3",
   "language": "python",
   "name": "python3"
  },
  "language_info": {
   "codemirror_mode": {
    "name": "ipython",
    "version": 3
   },
   "file_extension": ".py",
   "mimetype": "text/x-python",
   "name": "python",
   "nbconvert_exporter": "python",
   "pygments_lexer": "ipython3",
   "version": "3.7.6"
  }
 },
 "nbformat": 4,
 "nbformat_minor": 4
}
